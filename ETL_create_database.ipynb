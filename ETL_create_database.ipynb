version https://git-lfs.github.com/spec/v1
oid sha256:b03708be95a6df9d68ca50b8aa3c7fcd5db8c85b4af816975929eea278403e4f
size 54077
